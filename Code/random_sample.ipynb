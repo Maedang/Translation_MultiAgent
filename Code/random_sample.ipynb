{
 "cells": [
  {
   "cell_type": "code",
   "execution_count": 2,
   "metadata": {},
   "outputs": [
    {
     "name": "stdout",
     "output_type": "stream",
     "text": [
      "Data has been successfully written to /Users/maidang/Desktop/MSDS/Capstone Project/translation-agent/examples/csv/eng.csv\n"
     ]
    }
   ],
   "source": [
    "import csv\n",
    "\n",
    "# Step 1: Read the Text File\n",
    "input_file = '/Users/maidang/Desktop/MSDS/Capstone Project/translation-agent/examples/dev/eng.dev'\n",
    "sentences = []\n",
    "\n",
    "with open(input_file, 'r', encoding='utf-8') as file:\n",
    "    for line in file:\n",
    "        # Step 2: Process the Content\n",
    "        # Assuming each line in the file is a separate sentence\n",
    "        sentence = line.strip()  # Remove leading and trailing whitespaces\n",
    "        if sentence:  # Ignore empty lines\n",
    "            sentences.append(sentence)\n",
    "\n",
    "# Step 3: Write to a CSV File\n",
    "output_file = '/Users/maidang/Desktop/MSDS/Capstone Project/translation-agent/examples/csv/eng.csv'\n",
    "\n",
    "with open(output_file, 'w', newline='', encoding='utf-8') as csvfile:\n",
    "    csvwriter = csv.writer(csvfile)\n",
    "    # Write header\n",
    "    csvwriter.writerow(['Sentence'])\n",
    "    # Write sentences\n",
    "    for sentence in sentences:\n",
    "        csvwriter.writerow([sentence])\n",
    "\n",
    "print(f\"Data has been successfully written to {output_file}\")\n"
   ]
  },
  {
   "cell_type": "code",
   "execution_count": 4,
   "metadata": {},
   "outputs": [
    {
     "data": {
      "text/plain": [
       "997"
      ]
     },
     "execution_count": 4,
     "metadata": {},
     "output_type": "execute_result"
    }
   ],
   "source": [
    "len(sentences)"
   ]
  },
  {
   "cell_type": "code",
   "execution_count": 6,
   "metadata": {},
   "outputs": [],
   "source": [
    "import pandas as pd\n",
    "\n",
    "# Load the original CSV file\n",
    "df = pd.read_csv('/Users/maidang/Desktop/MSDS/Capstone Project/translation-agent/examples/csv/eng.csv')\n",
    "\n",
    "# Create a random sample of 100 rows\n",
    "sample_df = df.sample(n=100, random_state=42)\n",
    "\n",
    "# Save the sample to a new CSV file\n",
    "sample_df.to_csv('random_sample.csv', index=False)\n"
   ]
  },
  {
   "cell_type": "code",
   "execution_count": null,
   "metadata": {},
   "outputs": [],
   "source": []
  },
  {
   "cell_type": "markdown",
   "metadata": {},
   "source": []
  }
 ],
 "metadata": {
  "kernelspec": {
   "display_name": "Python 3",
   "language": "python",
   "name": "python3"
  },
  "language_info": {
   "codemirror_mode": {
    "name": "ipython",
    "version": 3
   },
   "file_extension": ".py",
   "mimetype": "text/x-python",
   "name": "python",
   "nbconvert_exporter": "python",
   "pygments_lexer": "ipython3",
   "version": "3.11.1"
  }
 },
 "nbformat": 4,
 "nbformat_minor": 2
}
